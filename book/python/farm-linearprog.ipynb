{
 "cells": [
  {
   "cell_type": "code",
   "execution_count": null,
   "id": "6e925157-8190-4c9c-bb99-40c35ffad3e0",
   "metadata": {},
   "outputs": [],
   "source": [
    "import numpy as np\n",
    "from scipy import optimize\n",
    "\n",
    "\n",
    "# Linear Programming minimizes by default, so we need to add a - to the vector c\n",
    "c = INSERT VECTOR C\n",
    "A = INSERT MATRIX A\n",
    "b = INSERT VECTOR b\n",
    "\n",
    "sol = optimize.linprog(c, A, b)"
   ]
  },
  {
   "cell_type": "code",
   "execution_count": null,
   "id": "83f4cd81-4cff-4b66-b6bb-9951c3bf8de6",
   "metadata": {},
   "outputs": [],
   "source": [
    "print(\"The optimum solution is:\\n  * Corn: \",sol.x[0],\" ha\\n  * Wheat: \",sol.x[1],\" ha\\n  * Oats: \",sol.x[2],\" ha\")\n",
    "print(\"The yield is $\", -sol.fun)"
   ]
  }
 ],
 "metadata": {
  "kernelspec": {
   "display_name": "Python 3 (ipykernel)",
   "language": "python",
   "name": "python3"
  },
  "language_info": {
   "codemirror_mode": {
    "name": "ipython",
    "version": 3
   },
   "file_extension": ".py",
   "mimetype": "text/x-python",
   "name": "python",
   "nbconvert_exporter": "python",
   "pygments_lexer": "ipython3",
   "version": "3.12.8"
  }
 },
 "nbformat": 4,
 "nbformat_minor": 5
}
