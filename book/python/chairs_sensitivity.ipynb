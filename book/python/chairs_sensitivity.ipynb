{
 "cells": [
  {
   "cell_type": "code",
   "execution_count": 25,
   "id": "4c27a8f3-562e-41de-9dac-9c617374a5c8",
   "metadata": {},
   "outputs": [
    {
     "name": "stdout",
     "output_type": "stream",
     "text": [
      "Sensitivity is  0.0\n"
     ]
    }
   ],
   "source": [
    "import numpy as np\n",
    "from scipy import optimize\n",
    "\n",
    "\n",
    "# Set the value of h and the parameter b\n",
    "h = 0.001\n",
    "b0 = VALUE OF THE PARAMETER\n",
    "\n",
    "bv=[b0, b0+h]\n",
    "\n",
    "# Auxiliary functions\n",
    "#  * CHANGE THE PARAMETER VALUE TO THE LETTER b\n",
    "P_wood = lambda x,b : 10 + 31*x[0]**(-0.5) + 1.3*x[1]**(-0.2)\n",
    "P_alum = lambda x,b : 5 + 15*x[1]**(-0.4) + 0.8*x[0]**(-0.08)\n",
    "\n",
    "# Function to optimize:\n",
    "#   * x[0] = x = number of wooden chairs sold\n",
    "#   * x[1] = y = number of aluminum chairs sold\n",
    "profit = lambda x,b : x[0]*P_wood(x,b)-18*x[0]+x[1]*P_alum(x,b)-10*x[1]\n",
    "\n",
    "P = [0,0]\n",
    "for i in range(2):\n",
    "    b = bv[i]\n",
    "    \n",
    "    # We want to maximize the profit, but python naturally minimizes functions, so define a new function that does the following\n",
    "    #  * - profit => so minimizing the new function is equivalent to maximizing the original profit function\n",
    "    #  * adds a large penalty when the variables x and y are negative \n",
    "    profit_pen = lambda x: -profit(x,b) + 1000*((x[0]<0) + (x[1]<0))\n",
    "\n",
    "    # Initial guess\n",
    "    x0=[5,5]\n",
    "\n",
    "    # Optimize the problem using the function fmin\n",
    "    solution = optimize.fmin(profit_pen, x0, disp=False);\n",
    "    P[i] = profit(solution,b)\n",
    "\n",
    "    # P[0] is P(b)\n",
    "    # P[1] is P(b+h)\n",
    "\n",
    "S = ((P[1]-P[0])/h) * (b/P[0])\n",
    "\n",
    "print(\"Sensitivity is \",S)"
   ]
  },
  {
   "cell_type": "code",
   "execution_count": null,
   "id": "e55c1c9e-1f46-4e8a-9ce4-df1025d7c428",
   "metadata": {},
   "outputs": [],
   "source": []
  }
 ],
 "metadata": {
  "kernelspec": {
   "display_name": "Python 3 (ipykernel)",
   "language": "python",
   "name": "python3"
  },
  "language_info": {
   "codemirror_mode": {
    "name": "ipython",
    "version": 3
   },
   "file_extension": ".py",
   "mimetype": "text/x-python",
   "name": "python",
   "nbconvert_exporter": "python",
   "pygments_lexer": "ipython3",
   "version": "3.12.8"
  }
 },
 "nbformat": 4,
 "nbformat_minor": 5
}
