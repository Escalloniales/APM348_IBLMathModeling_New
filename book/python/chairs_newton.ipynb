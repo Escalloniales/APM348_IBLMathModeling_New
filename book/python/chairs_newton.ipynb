{
 "cells": [
  {
   "cell_type": "code",
   "execution_count": null,
   "id": "4c27a8f3-562e-41de-9dac-9c617374a5c8",
   "metadata": {},
   "outputs": [],
   "source": [
    "import numpy as np\n",
    "from scipy.optimize import fsolve\n",
    "\n",
    "# Define the profit as a function of x and y.\n",
    "\n",
    "profit = lambda x,y: ADD THE PROFIT FUNCTION HERE\n",
    "\n",
    "\n",
    "def equations(p):\n",
    "    \"\"\"\n",
    "    Defines the system of equations to be solved.\n",
    "\n",
    "    Args:\n",
    "        p: A pair containing the initial guesses for x and y.\n",
    "\n",
    "    Returns:\n",
    "        A pair containing the values of the two equations.\n",
    "    \"\"\"\n",
    "    x, y = p\n",
    "\n",
    "    # Define the partial derivatives of the profit function as functions of (x,y):    \n",
    "    dP_dx = WRITE YOUR FUNCTION HERE\n",
    "    dP_dy = WRITE YOUR FUNCTION HERE\n",
    "\n",
    "    return dP_dx, dP_dy\n",
    "\n",
    "# Initial guesses for x and y\n",
    "initial_guess = [INITIAL GUESS FOR X, INITIAL GUESS FOR Y]\n",
    "\n",
    "# Solve the system of equations using fsolve (that use methods like Newton's Method)\n",
    "solution = fsolve(equations, initial_guess)\n",
    "\n",
    "# Print the solution\n",
    "print(\"Solution: x =\", solution[0], \", y =\", solution[1])"
   ]
  },
  {
   "cell_type": "code",
   "execution_count": null,
   "id": "7009c07f-d035-4871-b207-b9a4b433e24b",
   "metadata": {},
   "outputs": [],
   "source": [
    "# Let us now sketch the graph of the function (the level sets) and its optimum\n",
    "\n",
    "import matplotlib.pyplot as plt\n",
    "\n",
    "# Graph in [0,25]x[0,25]\n",
    "xmin = 0; xmax = 25;\n",
    "ymin=0; ymax=25;\n",
    "npts = 1001; nlevels=50;\n",
    "# Create a grid in the correct form to graph using meshgrid\n",
    "[X,Y] = np.meshgrid(np.linspace(xmin, xmax,npts),np.linspace(ymin,ymax,npts))\n",
    "\n",
    "# Calculate the profit function at all values we are going to plot\n",
    "Z = profit(X,Y)\n",
    "\n",
    "plt.contourf(X,Y,Z, nlevels)\n",
    "plt.colorbar()\n",
    "plt.plot(solution[0],solution[1],'-o') # draw the optimal point\n",
    "\n",
    "print(\"Optimum for \",solution[0],\" wooden chairs and \", solution[1],\" aluminum chairs\")\n",
    "print(\"Profit = \",profit(solution[0],solution[1]))"
   ]
  },
  {
   "cell_type": "code",
   "execution_count": null,
   "id": "e55c1c9e-1f46-4e8a-9ce4-df1025d7c428",
   "metadata": {},
   "outputs": [],
   "source": []
  }
 ],
 "metadata": {
  "kernelspec": {
   "display_name": "Python 3 (ipykernel)",
   "language": "python",
   "name": "python3"
  },
  "language_info": {
   "codemirror_mode": {
    "name": "ipython",
    "version": 3
   },
   "file_extension": ".py",
   "mimetype": "text/x-python",
   "name": "python",
   "nbconvert_exporter": "python",
   "pygments_lexer": "ipython3",
   "version": "3.12.8"
  }
 },
 "nbformat": 4,
 "nbformat_minor": 5
}
