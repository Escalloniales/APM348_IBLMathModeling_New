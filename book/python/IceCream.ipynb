{
 "cells": [
  {
   "cell_type": "code",
   "execution_count": 12,
   "id": "e55c1c9e-1f46-4e8a-9ce4-df1025d7c428",
   "metadata": {},
   "outputs": [
    {
     "name": "stdout",
     "output_type": "stream",
     "text": [
      "The total cost is  10.696093749999992\n",
      "The cost of producing uniformly is  13.3\n",
      "The cost of producing everything on the last 1 unit of time is  18.1\n"
     ]
    },
    {
     "data": {
      "image/png": "[encoded data removed]",
      "text/plain": [
       "<Figure size 640x480 with 1 Axes>"
      ]
     },
     "metadata": {},
     "output_type": "display_data"
    }
   ],
   "source": [
    "# Let us now sketch the graph of the function (the level sets) and its optimum\n",
    "import numpy as np\n",
    "\n",
    "import matplotlib.pyplot as plt\n",
    "from scipy import optimize\n",
    "\n",
    "T = 5\n",
    "B = 4\n",
    "c1 = 1\n",
    "c2 = 1\n",
    "\n",
    "N = 100\n",
    "delta_t = T/N\n",
    "\n",
    "\n",
    "def Cost(dx):\n",
    "\n",
    "    C = 0\n",
    "    for i in range(N):\n",
    "        C += c1*dx[i]**2/delta_t + c2*dx[i]*(T-i*delta_t)\n",
    "\n",
    "    return C\n",
    "\n",
    "dCost = lambda dx, i: 2*c1*dx[i]/delta_t + c2*(T-i*delta_t)\n",
    "\n",
    "\n",
    "def Jac(y):\n",
    "    # y = [dx1, dx2, ... , dxN, lambda]\n",
    "\n",
    "    J = np.zeros(N+1)\n",
    "    for i in range(N):\n",
    "        J[i] = dCost(y,i) - y[N]    \n",
    "\n",
    "    J[N] = -(sum(y) - y[N] - B)\n",
    "    \n",
    "    return J\n",
    "\n",
    "dx0 = np.ones(N+1);\n",
    "\n",
    "sol = optimize.fsolve(Jac,dx0)\n",
    "\n",
    "print('The total cost is ',Cost(sol[0:N]))\n",
    "\n",
    "othersol = (B/N)*np.ones(N)\n",
    "C = Cost(othersol)\n",
    "print('The cost of producing uniformly is ',C)\n",
    "\n",
    "othersol = np.zeros(N)\n",
    "for i in range(int(N/T)):\n",
    "    othersol[N-1-i]=B*(1/int(N/T))\n",
    "C = Cost(othersol)\n",
    "print('The cost of producing everything on the last 1 unit of time is ',C)\n",
    "\n",
    "\n",
    "\n",
    "# Create the inventory array x from the production dx\n",
    "\n",
    "x = np.zeros(N+1)\n",
    "S=0\n",
    "for i in range(N):\n",
    "    S += sol[i]\n",
    "    x[i+1] = S\n",
    "\n",
    "\n",
    "# Plot the inventory \n",
    "\n",
    "solplot = np.zeros(2*N+1)\n",
    "tplot = np.zeros(2*N+1)\n",
    "\n",
    "t0=0\n",
    "for i in range(N):\n",
    "    tplot[2*i]=t0\n",
    "    t0+=delta_t\n",
    "    tplot[2*i+1]=t0\n",
    "\n",
    "    solplot[2*i]=x[i]\n",
    "    solplot[2*i+1]=x[i]\n",
    "\n",
    "tplot[2*N]=T\n",
    "solplot[2*N]=x[N]\n",
    "\n",
    "\n",
    "plt.plot(tplot, solplot)\n",
    "\n",
    "plt.ylabel('units in inventory');\n",
    "plt.xlabel('time');\n"
   ]
  },
  {
   "cell_type": "code",
   "execution_count": 5,
   "id": "3ddb44d4-5dea-499f-a064-accbc31bb745",
   "metadata": {
    "collapsed": true,
    "jupyter": {
     "outputs_hidden": true
    },
    "scrolled": true
   },
   "outputs": [
    {
     "name": "stdout",
     "output_type": "stream",
     "text": [
      "0.0 , 0.0\n",
      "1.0 , 0.0\n",
      "1.0 , 7.75\n",
      "2.0 , 7.75\n",
      "2.0 , 16.0\n",
      "3.0 , 16.0\n",
      "3.0 , 24.75\n",
      "4.0 , 24.75\n",
      "4.0 , 34.0\n",
      "5.0 , 34.0\n",
      "5.0 , 43.75\n",
      "6.0 , 43.75\n",
      "6.0 , 54.0\n",
      "7.0 , 54.0\n",
      "7.0 , 64.75\n",
      "8.0 , 64.75\n",
      "8.0 , 76.0\n",
      "9.0 , 76.0\n",
      "9.0 , 87.75\n",
      "10.0 , 87.75\n",
      "10.0 , 100.0\n"
     ]
    }
   ],
   "source": [
    "for i in range(2*N+1):\n",
    "    print(tplot[i],',',solplot[i])"
   ]
  },
  {
   "cell_type": "code",
   "execution_count": null,
   "id": "615b3a18-10e9-40ae-b75e-ceb1a1da7879",
   "metadata": {},
   "outputs": [],
   "source": []
  }
 ],
 "metadata": {
  "kernelspec": {
   "display_name": "Python 3 (ipykernel)",
   "language": "python",
   "name": "python3"
  },
  "language_info": {
   "codemirror_mode": {
    "name": "ipython",
    "version": 3
   },
   "file_extension": ".py",
   "mimetype": "text/x-python",
   "name": "python",
   "nbconvert_exporter": "python",
   "pygments_lexer": "ipython3",
   "version": "3.12.8"
  }
 },
 "nbformat": 4,
 "nbformat_minor": 5
}
