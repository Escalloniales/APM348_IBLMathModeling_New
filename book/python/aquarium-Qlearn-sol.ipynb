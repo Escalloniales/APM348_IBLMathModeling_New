{
 "cells": [
  {
   "cell_type": "markdown",
   "id": "9bfb692e-d4a2-47c0-ade9-e9d8c6b46edf",
   "metadata": {},
   "source": [
    "#### Q-learning Algorithm to find the optimal policy\n"
   ]
  },
  {
   "cell_type": "code",
   "execution_count": 64,
   "id": "de42c8d9-8f53-464b-b003-108ed1a1d397",
   "metadata": {},
   "outputs": [],
   "source": [
    "import numpy as np\n",
    "import random as rdm\n",
    "\n",
    "\n",
    "Lambda=1; m=3;\n",
    "d=5; s=20;\n",
    "rho=0.01; c=60;\n",
    "\n",
    "nweeks = 1000000\n",
    "\n",
    "\n",
    "def Qlearning(m, rho, nweeks=1000000):\n",
    "\n",
    "    alpha=1\n",
    "    a_factor = (0.001/alpha)**(1/nweeks)     \n",
    "        # a_factor has to be really close to 1, otherwise after a few weeks, \n",
    "        # the learning stops because alpha becomes too small.\n",
    "        # This formula ensures that at the end of the simulation, alpha is 0.001\n",
    "    gamma = 0.85\n",
    "    \n",
    "    \n",
    "    Q = np.zeros([m+1,m+1])\n",
    "    \n",
    "    X = int(rdm.random()*m) # initial stock\n",
    "    \n",
    "    for week in range(nweeks):\n",
    "        a = int(rdm.randint(0,m-X))    # a is a random number between 0 and m-X \n",
    "                                     # a = how many aquariums to re-stock\n",
    "        Xp=X\n",
    "        X += a\n",
    "    \n",
    "        # possible damages\n",
    "        K = np.random.binomial(X, rho)\n",
    "        X -= K   # lost K aquariums from inventory\n",
    "    \n",
    "        # sample the demand and determine the number of sales\n",
    "        D = np.random.poisson(Lambda)\n",
    "        S = np.min([D,X])    # number of sales\n",
    "        X -= S   # sold S aquariums\n",
    "    \n",
    "        # profit\n",
    "        R = s*S - d*(a>0) - c*K\n",
    "    \n",
    "        # update Q\n",
    "        alpha *= a_factor   # reduce the learning rate by a factor just below 1\n",
    "        Q[Xp,a] = (1-alpha)*Q[Xp,a] + alpha*(R + gamma*np.max(Q[X,0:m-X+1]))\n",
    "    \n",
    "    \n",
    "    p=[]\n",
    "    for i in range(m+1):\n",
    "        p.append(np.argmax(Q[i,:]))\n",
    "\n",
    "    print('m =',m,' rho =',rho,' -> ',p)\n",
    "    \n",
    "    return p"
   ]
  },
  {
   "cell_type": "code",
   "execution_count": 67,
   "id": "ba24552e-16c1-43f4-b5fb-e237ec29542d",
   "metadata": {},
   "outputs": [
    {
     "name": "stdout",
     "output_type": "stream",
     "text": [
      "m = 1  rho = 0.01  ->  [1, 0]\n",
      "m = 2  rho = 0.01  ->  [2, 1, 0]\n",
      "m = 3  rho = 0.01  ->  [3, 2, 0, 0]\n",
      "m = 4  rho = 0.01  ->  [4, 3, 0, 0, 0]\n",
      "m = 5  rho = 0.01  ->  [5, 4, 0, 0, 0, 0]\n",
      "m = 6  rho = 0.01  ->  [4, 4, 0, 0, 0, 0, 0]\n",
      "m = 7  rho = 0.01  ->  [6, 4, 0, 0, 0, 0, 0, 0]\n"
     ]
    }
   ],
   "source": [
    "rho=0.01\n",
    "for m in range(1,7+1):\n",
    "    Qlearning(m, rho, 10000000)"
   ]
  },
  {
   "cell_type": "code",
   "execution_count": 62,
   "id": "823296ca-0202-45a0-86e4-3a52acc3c0f1",
   "metadata": {},
   "outputs": [
    {
     "name": "stdout",
     "output_type": "stream",
     "text": [
      "m= 1  rho= 0.03  ->  [1, 0]\n",
      "m= 2  rho= 0.03  ->  [2, 0, 0]\n",
      "m= 3  rho= 0.03  ->  [3, 2, 0, 0]\n",
      "m= 4  rho= 0.03  ->  [3, 2, 0, 0, 0]\n",
      "m= 5  rho= 0.03  ->  [3, 2, 0, 0, 0, 0]\n"
     ]
    }
   ],
   "source": [
    "rho=0.03\n",
    "for m in range(1,5+1):\n",
    "    Qlearning(m, rho)"
   ]
  },
  {
   "cell_type": "code",
   "execution_count": 63,
   "id": "bc3c04c8-b588-4914-ab14-cd0c1f8e16d9",
   "metadata": {},
   "outputs": [
    {
     "name": "stdout",
     "output_type": "stream",
     "text": [
      "m= 1  rho= 0.05  ->  [1, 0]\n",
      "m= 2  rho= 0.05  ->  [2, 0, 0]\n",
      "m= 3  rho= 0.05  ->  [2, 0, 0, 0]\n",
      "m= 4  rho= 0.05  ->  [2, 0, 0, 0, 0]\n"
     ]
    }
   ],
   "source": [
    "rho=0.05\n",
    "for m in range(1,4+1):\n",
    "    Qlearning(m, rho)"
   ]
  },
  {
   "cell_type": "code",
   "execution_count": null,
   "id": "0c51d4d3-a2ae-4658-8828-2aa12d1e4add",
   "metadata": {},
   "outputs": [],
   "source": []
  }
 ],
 "metadata": {
  "kernelspec": {
   "display_name": "Python 3 (ipykernel)",
   "language": "python",
   "name": "python3"
  },
  "language_info": {
   "codemirror_mode": {
    "name": "ipython",
    "version": 3
   },
   "file_extension": ".py",
   "mimetype": "text/x-python",
   "name": "python",
   "nbconvert_exporter": "python",
   "pygments_lexer": "ipython3",
   "version": "3.12.8"
  }
 },
 "nbformat": 4,
 "nbformat_minor": 5
}
