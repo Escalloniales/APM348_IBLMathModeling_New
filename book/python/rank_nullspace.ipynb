{
 "cells": [
  {
   "cell_type": "code",
   "execution_count": 12,
   "id": "2b95dc32-eb3b-4e22-aac8-8c412b7fdb5e",
   "metadata": {},
   "outputs": [
    {
     "name": "stdout",
     "output_type": "stream",
     "text": [
      "[[ 1  0  1  0  1]\n",
      " [ 1  1 -3  1 -1]\n",
      " [-2 -1  0  0 -1]]\n",
      "\n",
      "Rank(D)= 3\n",
      "\n",
      "Null Space Basis for D is \n",
      " Matrix([[1], [-2], [-1], [-2], [0]]) \n",
      " Matrix([[1], [0], [1], [0], [-2]])\n"
     ]
    }
   ],
   "source": [
    "import numpy as np\n",
    "from numpy.linalg import matrix_rank\n",
    "from sympy import Matrix, nsimplify\n",
    "\n",
    "D = np.array([[1,0,1,0,1],[1,1,-3,1,-1],[-2,-1,0,0,-1]])\n",
    "Ds = Matrix([[1,0,1,0,1],[1,1,-3,1,-1],[-2,-1,0,0,-1]])\n",
    "\n",
    "print(D)\n",
    "\n",
    "print(\"\\nRank(D)=\",matrix_rank(D))\n",
    "\n",
    "print(\"\\nNull Space Basis for D is \\n\",-2*nsimplify(Ds, rational=True).nullspace()[0],\"\\n\",-2*nsimplify(Ds, rational=True).nullspace()[1])\n"
   ]
  }
 ],
 "metadata": {
  "kernelspec": {
   "display_name": "Python 3 (ipykernel)",
   "language": "python",
   "name": "python3"
  },
  "language_info": {
   "codemirror_mode": {
    "name": "ipython",
    "version": 3
   },
   "file_extension": ".py",
   "mimetype": "text/x-python",
   "name": "python",
   "nbconvert_exporter": "python",
   "pygments_lexer": "ipython3",
   "version": "3.11.9"
  }
 },
 "nbformat": 4,
 "nbformat_minor": 5
}
