{
 "cells": [
  {
   "cell_type": "code",
   "execution_count": null,
   "id": "30ab3a60-ca74-4773-a380-36f1428b3f43",
   "metadata": {},
   "outputs": [],
   "source": [
    "import numpy as np\n",
    "import matplotlib.pyplot as plt;\n",
    "from scipy.optimize import fsolve\n",
    "\n",
    "##### Find the equilibrium solutions #####\n",
    "\n",
    "\n",
    "# Set up the values of a that we want to consider: \n",
    "#\n",
    "#  N = amount of values\n",
    "#  a = list of values of a\n",
    "\n",
    "N = 10000\n",
    "a = np.linspace(LOWEST_VALUE, LARGEST_VALUE,N)\n",
    "\n",
    "# Define the lists for the equilibrium values of fleas and dogs\n",
    "\n",
    "equil_fleas = np.zeros(N)\n",
    "equil_dogs = np.zeros(N)\n",
    "\n",
    "# Define the equilibrium solutions for each value of a (a[i])\n",
    "\n",
    "for i in range(N):\n",
    "    equil_fleas[i] = EQUILIBRIUM VALUE FOR FLEAS FOR a[i]\n",
    "    equil_dogs[i] = EQUILIBRIUM VALUE FOR DOGS FOR a[i]\n",
    "\n",
    "# Plot the equilibrium solutions for each alpha\n",
    "\n",
    "plt.plot(equil_fleas, equil_dogs)\n",
    "plt.xlabel(\"number of fleas (in millions)\");\n",
    "plt.ylabel(\"number of dogs (in thousands)\");\n",
    "plt.title(\"Equilibrium solutions for different values of a\");\n"
   ]
  },
  {
   "cell_type": "code",
   "execution_count": null,
   "id": "bfcab721-ab9d-455d-a2b8-d04ce070c188",
   "metadata": {},
   "outputs": [],
   "source": [
    "# Construct the Jacobian at the equilibrium for each a\n",
    "#\n",
    "# J(i) gives the Jacobian matrix for a[i] and its corresponding equilibrium\n",
    "\n",
    "J = lambda i: np.array([[FIRST_ROW],[SECOND_ROW],[THIRD_ROW], ...]);\n",
    "\n",
    "# Create the array that is going to store the real part of the eigenvalues of the Jacobian\n",
    "eig = np.zeros([N,len(J(0))])\n",
    "\n",
    "# Calculate the eigenvalues of the Jacobian\n",
    "#\n",
    "# Because eig was created to be a real-valued array, if the eigenvalues are complex, it will show \n",
    "# a warning message and will only store the real part of the eigenvalues\n",
    "\n",
    "for i in range(N):\n",
    "    eig[i], Evec = np.linalg.eig(J(i));\n",
    "    eig[i].sort()   # sort them in order so the graph looks nice =)\n",
    "\n",
    "# Plot the eigenvalues of the Jacobian\n",
    "for i in range(len(J(0))):\n",
    "    plt.plot(a, eig[:,i])\n",
    "plt.plot(a, np.zeros(N_eq),'--k') # plot the x-axis in a dashed black line\n",
    "plt.xlabel('a');\n",
    "plt.title('Real part of eigenvalues of the Jacobian at the equilibrium');\n",
    "\n"
   ]
  },
  {
   "cell_type": "code",
   "execution_count": null,
   "id": "aa4246b5-42bb-4b26-8a10-6884f83a5413",
   "metadata": {},
   "outputs": [],
   "source": []
  }
 ],
 "metadata": {
  "kernelspec": {
   "display_name": "Python 3 (ipykernel)",
   "language": "python",
   "name": "python3"
  },
  "language_info": {
   "codemirror_mode": {
    "name": "ipython",
    "version": 3
   },
   "file_extension": ".py",
   "mimetype": "text/x-python",
   "name": "python",
   "nbconvert_exporter": "python",
   "pygments_lexer": "ipython3",
   "version": "3.12.8"
  }
 },
 "nbformat": 4,
 "nbformat_minor": 5
}
