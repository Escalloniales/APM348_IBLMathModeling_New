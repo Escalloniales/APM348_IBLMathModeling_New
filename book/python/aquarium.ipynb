{
 "cells": [
  {
   "cell_type": "markdown",
   "id": "034ce0eb-ad53-48cf-9bd4-2484159cf187",
   "metadata": {
    "jp-MarkdownHeadingCollapsed": true
   },
   "source": [
    "### Finding $\\vec{\\pi}$"
   ]
  },
  {
   "cell_type": "markdown",
   "id": "f8af00cf-e394-485a-bfce-bd73103694fd",
   "metadata": {},
   "source": [
    "We can now see that in the long term we have\n",
    "$$ \\vec{\\pi} = \\vec{\\pi} \\mathcal{P}$$\n",
    "as long as $\\displaystyle \\lim_{n \\to \\infty} \\vec{\\pi}_n$ exists.\n",
    "\n",
    "This is an eigenvalue-eigenvector problem:\n",
    "$$ 1 \\cdot \\vec{\\pi} = \\mathcal{P}^T \\vec{\\pi}, $$\n",
    "where $\\vec{\\pi}$ is an eigenvector for the eigenvalue $1$ of $\\mathcal{P}$.\n",
    "\n",
    "Below, we set up the matrix $\\mathcal{P}$ and find the corresponding eigenvector with eigenvalue $1$.\n",
    "\n",
    "*Observe that $\\vec{\\pi}$ should be normalized so that the sum of its elements is 1.*"
   ]
  },
  {
   "cell_type": "code",
   "execution_count": null,
   "id": "3c8dd798-5e4f-483e-a7cc-cf2ab46594ad",
   "metadata": {},
   "outputs": [],
   "source": [
    "import numpy as np\n",
    "\n",
    "\n",
    "Lambda = 1\n",
    "\n",
    "# Define the transtiion matrix P\n",
    "\n",
    "P = [[  ],\n",
    "     [  ],\n",
    "     [  ]]\n",
    "\n",
    "vals, vecs = np.linalg.eig(np.transpose(P)); # Calculate the eigenvalues and eigenvectors of P transpose\n",
    "i = np.argmax(vals) # Find the index of the largest eigenvalue\n",
    "\n",
    "pi = np.real(vecs[:,i])  # pi is the eigenvector corresponding to the largest eigenvalue\n"
   ]
  },
  {
   "cell_type": "code",
   "execution_count": null,
   "id": "4c73fac1-b500-484d-95ca-d748409dbda6",
   "metadata": {},
   "outputs": [],
   "source": [
    "# We normalize the eigenvector so that the sum of the elements is 1\n",
    "\n",
    "def normalize_vector(v):\n",
    "    norm = np.sum(v)  # Compute the vector's magnitude\n",
    "    if norm == 0:\n",
    "        return v  # Return the original vector if its length is zero (avoid division by zero)\n",
    "    return v / norm\n",
    "\n",
    "pi = normalize_vector(-pi)\n",
    "\n",
    "print(pi)"
   ]
  },
  {
   "cell_type": "markdown",
   "id": "1252ba93-2164-4d42-9bda-281ef623fcd7",
   "metadata": {
    "jp-MarkdownHeadingCollapsed": true
   },
   "source": [
    "### Calculations on $W$"
   ]
  },
  {
   "cell_type": "markdown",
   "id": "8467aa13-0c1d-4342-8baf-730fb3e6e0e9",
   "metadata": {},
   "source": [
    "We now calculate $W$, the expected weeks when the store loses a sale.\n",
    "$$\n",
    "W = \\lim_{n \\to \\infty} \\sum_{i=1}^3 {\\rm Pr}(D_n>X_n|X_n=i) \\cdot {\\rm Pr}(X_n=i)\n",
    "$$\n",
    "\n",
    "Simplify this further to make it easier to calculate.\n"
   ]
  },
  {
   "cell_type": "code",
   "execution_count": null,
   "id": "066e2cf5-bef1-4bdd-ab5a-80423791ad65",
   "metadata": {},
   "outputs": [],
   "source": [
    "import math\n",
    "\n",
    "W=0\n",
    "\n",
    "# TODO\n",
    "\n",
    "W += 0\n",
    "\n",
    "\n",
    "\n",
    "# END TODO\n",
    "\n",
    "\n",
    "print('W = ', W)\n",
    "    "
   ]
  },
  {
   "cell_type": "markdown",
   "id": "a7cd35ef-0ef8-4eb4-86fe-f26e86f7eaf5",
   "metadata": {
    "jp-MarkdownHeadingCollapsed": true
   },
   "source": [
    "### Calculations on $L$"
   ]
  },
  {
   "cell_type": "markdown",
   "id": "b571a191-f37f-4298-a3fc-4befcaa5236c",
   "metadata": {},
   "source": [
    "Here we want to calculate the lost sales directly, which requires a simple change in the calculation done above:\n",
    "$$\n",
    "L= \\lim_{n \\to \\infty} \\sum_{i=1}^3 (D_n-X_n) {\\rm Pr}(D_n>X_n|X_n=i) \\cdot {\\rm Pr}(X_n=i)\n",
    "$$\n",
    "which can be simplified to\n",
    "$$[\n",
    "L = \\lim_{n \\to \\infty} \\sum_{i=1}^3 \\sum_{j=i+1}^{\\infty} (j-i) {\\rm Pr}(D_n=j) \\cdot {\\rm Pr}(X_n=i)\n",
    "$$\n",
    "\n",
    "Simplify this further to make it easier to calculate.\n"
   ]
  },
  {
   "cell_type": "code",
   "execution_count": null,
   "id": "15ed7fcf-259b-4ee2-9a2d-f961169929e1",
   "metadata": {},
   "outputs": [],
   "source": [
    "import math\n",
    "\n",
    "L=0\n",
    "\n",
    "\n",
    "# TODO \n",
    "\n",
    "\n",
    "L += 0\n",
    "\n",
    "\n",
    "# END TODO\n",
    "\n",
    "print('L = ', L)\n",
    "    "
   ]
  },
  {
   "cell_type": "code",
   "execution_count": null,
   "id": "09e1ad17-1ce8-4037-a2f6-a1c74e247aa0",
   "metadata": {},
   "outputs": [],
   "source": []
  }
 ],
 "metadata": {
  "kernelspec": {
   "display_name": "Python 3 (ipykernel)",
   "language": "python",
   "name": "python3"
  },
  "language_info": {
   "codemirror_mode": {
    "name": "ipython",
    "version": 3
   },
   "file_extension": ".py",
   "mimetype": "text/x-python",
   "name": "python",
   "nbconvert_exporter": "python",
   "pygments_lexer": "ipython3",
   "version": "3.12.8"
  }
 },
 "nbformat": 4,
 "nbformat_minor": 5
}
