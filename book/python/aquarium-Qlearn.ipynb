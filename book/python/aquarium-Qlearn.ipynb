{
 "cells": [
  {
   "cell_type": "markdown",
   "id": "9bfb692e-d4a2-47c0-ade9-e9d8c6b46edf",
   "metadata": {},
   "source": [
    "#### Q-learning Algorithm to find the optimal policy\n"
   ]
  },
  {
   "cell_type": "code",
   "execution_count": 1,
   "id": "de42c8d9-8f53-464b-b003-108ed1a1d397",
   "metadata": {},
   "outputs": [],
   "source": [
    "import numpy as np\n",
    "import random as rdm\n",
    "\n",
    "\n",
    "# Original parameters for the aquarium problem\n",
    "Lambda=1; m=3;\n",
    "d=5; s=20;\n",
    "rho=0.01; c=60;\n",
    "\n",
    "nweeks = 1000000\n",
    "\n",
    "\n",
    "def Qlearning(m, rho, nweeks=1000000):\n",
    "\n",
    "    alpha=1\n",
    "    a_factor = (0.001/alpha)**(1/nweeks)     \n",
    "        # a_factor has to be really close to 1, otherwise after a few weeks, \n",
    "        # the learning stops because alpha becomes too small.\n",
    "        # This formula ensures that at the end of the simulation, alpha is 0.001\n",
    "    gamma = 0.85\n",
    "    \n",
    "    \n",
    "    Q = np.zeros([m+1,m+1])\n",
    "    \n",
    "    X = int(rdm.random()*m) # initial stock\n",
    "    \n",
    "    for week in range(nweeks):\n",
    "        a = int(rdm.randint(0,m-X))    # a is a random number between 0 and m-X \n",
    "                                     # a = how many aquariums to re-stock\n",
    "        Xp=X\n",
    "        X += a\n",
    "    \n",
    "        # possible damages\n",
    "        K = np.random.binomial(X, rho)\n",
    "        X -= K   # lost K aquariums from inventory\n",
    "    \n",
    "        # sample the demand and determine the number of sales\n",
    "        D = np.random.poisson(Lambda)\n",
    "        S = np.min([D,X])    # number of sales\n",
    "        X -= S   # sold S aquariums\n",
    "    \n",
    "        # profit\n",
    "        R = s*S - d*(a>0) - c*K\n",
    "    \n",
    "        # update Q\n",
    "        alpha *= a_factor   # reduce the learning rate by a factor just below 1\n",
    "        Q[Xp,a] = (1-alpha)*Q[Xp,a] + alpha*(R + gamma*np.max(Q[X,0:m-X+1]))\n",
    "      \n",
    "    return Q"
   ]
  },
  {
   "cell_type": "code",
   "execution_count": null,
   "id": "759cc21a-ed97-4796-b014-2bd9876cabd7",
   "metadata": {},
   "outputs": [],
   "source": []
  }
 ],
 "metadata": {
  "kernelspec": {
   "display_name": "Python 3 (ipykernel)",
   "language": "python",
   "name": "python3"
  },
  "language_info": {
   "codemirror_mode": {
    "name": "ipython",
    "version": 3
   },
   "file_extension": ".py",
   "mimetype": "text/x-python",
   "name": "python",
   "nbconvert_exporter": "python",
   "pygments_lexer": "ipython3",
   "version": "3.12.8"
  }
 },
 "nbformat": 4,
 "nbformat_minor": 5
}
