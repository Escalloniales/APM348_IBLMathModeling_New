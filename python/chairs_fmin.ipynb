{
 "cells": [
  {
   "cell_type": "code",
   "execution_count": null,
   "id": "4c27a8f3-562e-41de-9dac-9c617374a5c8",
   "metadata": {},
   "outputs": [],
   "source": [
    "import numpy as np\n",
    "from scipy import optimize\n",
    "\n",
    "\n",
    "# Function to optimize:\n",
    "#   * x[0] = x = number of wooden chairs sold\n",
    "#   * x[1] = y = number of aluminum chairs sold\n",
    "profit = lambda x: WRITE YOUR FUNCTION HERE\n",
    "\n",
    "# We want to maximize the profit, but python naturally minimizes functions, so define a new function that does the following\n",
    "#  * - profit => so minimizing the new function is equivalent to maximizing the original profit function\n",
    "#  * adds a large penalty when the variables x and y are negative \n",
    "profit_pen = lambda x: -profit(x) + 1000*((x[0]<0) + (x[1]<0))\n",
    "\n",
    "# Initial guess\n",
    "x0=[INITIAL GUESS FOR X, INITIAL GUESS FOR Y]\n",
    "\n",
    "# Optimize the problem using the function fmin\n",
    "[minimum = optimize.fmin(profit_pen, x0)"
   ]
  },
  {
   "cell_type": "code",
   "execution_count": null,
   "id": "7009c07f-d035-4871-b207-b9a4b433e24b",
   "metadata": {},
   "outputs": [],
   "source": [
    "# Let us now sketch the graph of the function (the level sets) and its optimum\n",
    "\n",
    "import matplotlib.pyplot as plt\n",
    "\n",
    "# Graph in [0,25]x[0,25]\n",
    "xmin = 0; xmax = 25;\n",
    "ymin=0; ymax=25;\n",
    "npts = 1001; nlevels=50;\n",
    "# Create a grid in the correct form to graph using meshgrid\n",
    "[X,Y] = np.meshgrid(np.linspace(xmin, xmax,npts),np.linspace(ymin,ymax,npts))\n",
    "\n",
    "# Calculate the profit function at all values we are going to plot\n",
    "Z = profit([X,Y])\n",
    "\n",
    "plt.contourf(X,Y,Z, nlevels)\n",
    "plt.colorbar()\n",
    "plt.plot(minimum[0],minimum[1],'-o') # draw the optimal point\n",
    "\n",
    "print(\"Maximum profit for \",minimum[0],\" wooden chairs and \", minimum[1],\" aluminum chairs\")\n",
    "print(\"Profit = \",profit(minimum))"
   ]
  }
 ],
 "metadata": {
  "kernelspec": {
   "display_name": "Python 3 (ipykernel)",
   "language": "python",
   "name": "python3"
  },
  "language_info": {
   "codemirror_mode": {
    "name": "ipython",
    "version": 3
   },
   "file_extension": ".py",
   "mimetype": "text/x-python",
   "name": "python",
   "nbconvert_exporter": "python",
   "pygments_lexer": "ipython3",
   "version": "3.12.8"
  }
 },
 "nbformat": 4,
 "nbformat_minor": 5
}
