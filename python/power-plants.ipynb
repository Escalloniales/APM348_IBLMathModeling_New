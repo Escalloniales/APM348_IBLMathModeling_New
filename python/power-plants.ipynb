{
 "cells": [
  {
   "cell_type": "code",
   "execution_count": 20,
   "id": "6e925157-8190-4c9c-bb99-40c35ffad3e0",
   "metadata": {},
   "outputs": [
    {
     "name": "stdout",
     "output_type": "stream",
     "text": [
      "Solution is \n",
      " [[112.]\n",
      " [560.]\n",
      " [280.]\n",
      " [ 15.]]\n",
      "Cost is  7616.0\n"
     ]
    }
   ],
   "source": [
    "import numpy as np\n",
    "\n",
    "C = lambda x: 0.0625*x[0]**2+x[0]+0.0125*x[1]**2+x[1]+0.025*x[2]**2+x[2]\n",
    "\n",
    "A = lambda a: [[2*a[0], 0, 0, -1],[0,2*a[1],0,-1],[0,0,2*a[2],-1],[1,1,1,0]]\n",
    "b = lambda X: [[-1],[-1],[-1],[X]]\n",
    "\n",
    "a = [0.0625, 0.0125, 0.025]\n",
    "X = 952\n",
    "\n",
    "x0 = np.linalg.solve(A(a),b(X))\n",
    "C0=C(x0[:,0])\n",
    "\n",
    "print(\"Solution is \\n\",x0)\n",
    "print(\"Cost is \",C0)"
   ]
  },
  {
   "cell_type": "code",
   "execution_count": 18,
   "id": "6c95bd7e-c258-49a2-beb7-a1e0348dee9d",
   "metadata": {},
   "outputs": [
    {
     "name": "stdout",
     "output_type": "stream",
     "text": [
      "Sensitivity with respect to X is  1.8750009190853234\n"
     ]
    }
   ],
   "source": [
    "h=0.001\n",
    "param0 = 952\n",
    "param1 = param0+h\n",
    "\n",
    "a = [0.0625, 0.0125, 0.025]\n",
    "\n",
    "x1 = np.linalg.solve(A(a),b(param1))\n",
    "C1=C(x1[:,0])\n",
    "\n",
    "S=((C1-C0)/h)*(param0/C0)\n",
    "\n",
    "print(\"Sensitivity with respect to X is \",S)\n",
    "\n"
   ]
  },
  {
   "cell_type": "code",
   "execution_count": 17,
   "id": "9ec68419-71e1-44a2-8630-55387f519254",
   "metadata": {},
   "outputs": [
    {
     "name": "stdout",
     "output_type": "stream",
     "text": [
      "Sensitivity with respect to a[ 1 ] is  0.0001449192471720873\n"
     ]
    }
   ],
   "source": [
    "a = [0.0625, 0.0125, 0.025]\n",
    "i=0\n",
    "\n",
    "h=0.0001\n",
    "param0 = a[i]\n",
    "param1 = param0+h\n",
    "\n",
    "a[i] = param1\n",
    "\n",
    "x1 = np.linalg.solve(A(a),b(X))\n",
    "C1=C(x1[:,0])\n",
    "\n",
    "S=((C1-C0)/h)*(param0/C0)\n",
    "\n",
    "print(\"Sensitivity with respect to a[\",i+1,\"] is \",S)\n",
    "\n"
   ]
  },
  {
   "cell_type": "code",
   "execution_count": null,
   "id": "e01af99f-9ab8-4568-92d8-91e286462fd7",
   "metadata": {},
   "outputs": [],
   "source": []
  }
 ],
 "metadata": {
  "kernelspec": {
   "display_name": "Python 3 (ipykernel)",
   "language": "python",
   "name": "python3"
  },
  "language_info": {
   "codemirror_mode": {
    "name": "ipython",
    "version": 3
   },
   "file_extension": ".py",
   "mimetype": "text/x-python",
   "name": "python",
   "nbconvert_exporter": "python",
   "pygments_lexer": "ipython3",
   "version": "3.12.8"
  }
 },
 "nbformat": 4,
 "nbformat_minor": 5
}
