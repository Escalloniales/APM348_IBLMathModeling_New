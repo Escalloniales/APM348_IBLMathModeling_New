{
 "cells": [
  {
   "cell_type": "markdown",
   "metadata": {},
   "source": [
    "# Homework 0\n",
    "\n",
    "Do the programing part of Homework 0 in this notebook. Predefined are function *stubs*. That is, the name of the function and a basic body is predefined. You need to modify the code to fulfil the requirements of the homework."
   ]
  },
  {
   "cell_type": "code",
   "execution_count": null,
   "metadata": {},
   "outputs": [],
   "source": [
    "# import numpy and matplotlib\n",
    "import numpy as np\n",
    "import matplotlib.pylab as plt\n",
    "\n",
    "# If you're using Firefox, remove one or both # on the commands below.\n",
    "# note these `%`-commands are not actually Python commands. They are Jupyter-notebook-specific commands.\n",
    "#%matplotlib notebook\n",
    "#%matplotlib notebook"
   ]
  },
  {
   "cell_type": "markdown",
   "metadata": {},
   "source": [
    "## 1. Function Handles in Python"
   ]
  },
  {
   "cell_type": "code",
   "execution_count": null,
   "metadata": {},
   "outputs": [],
   "source": [
    "g = lambda x : cos(x^2)\n",
    "\n",
    "\n",
    "xinfty = 0\n",
    "\n",
    "print('The sequence is approaching the value', xinfty)"
   ]
  },
  {
   "cell_type": "markdown",
   "metadata": {},
   "source": [
    "## 2. Newton's Method"
   ]
  },
  {
   "cell_type": "code",
   "execution_count": null,
   "metadata": {},
   "outputs": [],
   "source": [
    "def NewtonsMethod(f, fp, x0):\n",
    "    \"\"\"\n",
    "    Solves f(x) = 0 using Newton's Method\n",
    "    \n",
    "    Parameters:\n",
    "    f  : function - The function for which we are finding the root\n",
    "    fp : function - The derivative of the function f\n",
    "    x0 : float - Initial guess\n",
    "    \n",
    "    Returns: x : float - root of the function f\n",
    "    \"\"\"\n",
    "    \n",
    "    tol = 1e-12  # An internal numerical parameter for the tolerance on f(x)\n",
    "    miniter = 3  # Minimum number of iterations\n",
    "\n",
    "    ### write your code between here\n",
    "\n",
    "\n",
    "\n",
    "    \n",
    "    ### and here\n",
    "    \n",
    "    # you want to use a command like the following to make formatted output\n",
    "    # of each iteration\n",
    "    #    print(f\"{iter:5d} {x:18.16f} {abs(f(x)):18.16f}\")\n",
    "    \n",
    "    return x"
   ]
  },
  {
   "cell_type": "markdown",
   "metadata": {},
   "source": [
    "**3.** Test your Newton's Method\n",
    "\n",
    "Use this to test whether your implementation of Newton's method is working properly or not.\n",
    "It uses the function $$f(x) = e^x - 4x$$"
   ]
  },
  {
   "cell_type": "code",
   "execution_count": null,
   "metadata": {},
   "outputs": [],
   "source": [
    "\n",
    "f  = lambda x: np.exp(x) - 4*x;\n",
    "fp = lambda x: np.exp(x) - 4;\n",
    "\n",
    "plt.figure();\n",
    "plt.subplot(2,1,1);\n",
    "x = np.linspace(0,3,1024); \n",
    "plt.plot(x,f(x))\n",
    "plt.plot([0,3],[0,0],'--k')\n",
    "plt.xlabel('x')\n",
    "plt.ylabel('f(x)')\n",
    "\n",
    "plt.subplot(2,1,2);\n",
    "plt.ylabel(r'root $x_\\infty$')\n",
    "plt.xlabel(r'$x_0$')\n",
    "for x0 in np.linspace(0,3,2^8):\n",
    "    x = NewtonsMethod(f,fp,x0);\n",
    "    plt.plot(x0,x,'o',color='orange')"
   ]
  },
  {
   "cell_type": "markdown",
   "metadata": {},
   "source": [
    "**4.** Find the roots of \n",
    "$$ \\cos(x^2)-x$$"
   ]
  },
  {
   "cell_type": "code",
   "execution_count": null,
   "metadata": {},
   "outputs": [],
   "source": [
    "# You can input your code here to use your Newton's Method function to find the roots of this function\n",
    "\n"
   ]
  },
  {
   "cell_type": "markdown",
   "metadata": {},
   "source": [
    "## 3. Pig Selling Problem"
   ]
  },
  {
   "cell_type": "code",
   "execution_count": null,
   "metadata": {},
   "outputs": [],
   "source": [
    "\n",
    "\n",
    "T5 = 0\n",
    "\n",
    "print('5. The root of the equation is', T5)"
   ]
  },
  {
   "cell_type": "code",
   "execution_count": null,
   "metadata": {},
   "outputs": [],
   "source": [
    "\n",
    "\n",
    "T6=0\n",
    "\n",
    "print('6. The farmer should sell the pig on day', T6)"
   ]
  },
  {
   "cell_type": "code",
   "execution_count": null,
   "metadata": {},
   "outputs": [],
   "source": [
    "\n",
    "\n",
    "T7=0\n",
    "\n",
    "print('7. The farmer should sell the pig on day', T7)"
   ]
  },
  {
   "cell_type": "code",
   "execution_count": null,
   "metadata": {},
   "outputs": [],
   "source": [
    "\n",
    "\n",
    "S = 0\n",
    "\n",
    "print('8. The sensitivity is ', S)"
   ]
  },
  {
   "cell_type": "markdown",
   "metadata": {},
   "source": [
    "**9.** Use this part to make different but reasonable choices for $p(t), w(t), C(t)$."
   ]
  },
  {
   "cell_type": "code",
   "execution_count": null,
   "metadata": {},
   "outputs": [],
   "source": [
    "# Use this area to write python code to help you with your conclusions\n",
    "\n"
   ]
  },
  {
   "cell_type": "markdown",
   "metadata": {},
   "source": [
    "Briefly discuss the model's robustness below."
   ]
  },
  {
   "cell_type": "markdown",
   "metadata": {},
   "source": []
  },
  {
   "cell_type": "markdown",
   "metadata": {},
   "source": [
    "## 4. Extra: Automatic Differentiation\n",
    "\n",
    "**10.** The first step is to load the file Automatic Differentiation library from Richard Neidinger:"
   ]
  },
  {
   "cell_type": "code",
   "execution_count": null,
   "metadata": {},
   "outputs": [],
   "source": [
    "class ValDer:\n",
    "    \"\"\"\n",
    "    ValDer class implementing Automatic Differentiation by operator overloading.\n",
    "    Computes first-order derivative or multivariable gradient vectors by\n",
    "    starting with a known simple ValDer such as x = ValDer(3, 1) and \n",
    "    propagating it through elementary functions and operators.\n",
    "    \"\"\"\n",
    "\n",
    "    def __init__(self, a, b=None):\n",
    "        \"\"\"\n",
    "        ValDer class constructor\n",
    "        If only a is provided, it is considered a constant with derivative 0.\n",
    "        If both a and b are provided, they represent the value and derivative.\n",
    "        \"\"\"\n",
    "        if b is None:\n",
    "            self.val = a\n",
    "            self.der = 0\n",
    "        else:\n",
    "            self.val = a\n",
    "            self.der = b\n",
    "\n",
    "    def __repr__(self):\n",
    "        return f\"ValDer(val={self.val}, der={self.der})\"\n",
    "\n",
    "    def __add__(self, other):\n",
    "        if not isinstance(other, ValDer):  # other is a scalar\n",
    "            return ValDer(self.val + other, self.der)\n",
    "        return ValDer(self.val + other.val, self.der + other.der)\n",
    "\n",
    "    def __radd__(self, other):\n",
    "        return self.__add__(other)\n",
    "\n",
    "    def __neg__(self):\n",
    "        return ValDer(-self.val, -self.der)\n",
    "\n",
    "    def __sub__(self, other):\n",
    "        if not isinstance(other, ValDer):  # other is a scalar\n",
    "            return ValDer(self.val - other, self.der)\n",
    "        return ValDer(self.val - other.val, self.der - other.der)\n",
    "\n",
    "    def __rsub__(self, other):\n",
    "        if not isinstance(other, ValDer):  # other is a scalar\n",
    "            return ValDer(other - self.val, -self.der)\n",
    "        return ValDer(other.val - self.val, other.der - self.der)\n",
    "\n",
    "    def __mul__(self, other):\n",
    "        if not isinstance(other, ValDer):  # other is a scalar\n",
    "            return ValDer(self.val * other, self.der * other)\n",
    "        return ValDer(self.val * other.val, self.val * other.der + self.der * other.val)\n",
    "\n",
    "    def __rmul__(self, other):\n",
    "        return self.__mul__(other)\n",
    "\n",
    "    def __truediv__(self, other):\n",
    "        if not isinstance(other, ValDer):  # other is a scalar\n",
    "            return ValDer(self.val / other, self.der / other)\n",
    "        return ValDer(self.val / other.val, (self.der * other.val - self.val * other.der) / (other.val ** 2))\n",
    "\n",
    "    def __rtruediv__(self, other):\n",
    "        if not isinstance(other, ValDer):  # other is a scalar\n",
    "            return ValDer(other / self.val, -other * self.der / (self.val ** 2))\n",
    "        return ValDer(other.val / self.val, (other.der * self.val - other.val * self.der) / (self.val ** 2))\n",
    "\n",
    "    def sqrt(self):\n",
    "        return ValDer(np.sqrt(self.val), self.der / (2 * np.sqrt(self.val)))\n",
    "\n",
    "    def sin(self):\n",
    "        return ValDer(np.sin(self.val), np.cos(self.val) * self.der)\n",
    "\n",
    "    def cos(self):\n",
    "        return ValDer(np.cos(self.val), -np.sin(self.val) * self.der)\n",
    "\n",
    "    def tan(self):\n",
    "        return ValDer(np.tan(self.val), (1 / np.cos(self.val)) ** 2 * self.der)\n",
    "\n",
    "    def asin(self):\n",
    "        return ValDer(np.arcsin(self.val), self.der / np.sqrt(1 - self.val ** 2))\n",
    "\n",
    "    def acos(self):\n",
    "        return ValDer(np.arccos(self.val), -self.der / np.sqrt(1 - self.val ** 2))\n",
    "\n",
    "    def atan(self):\n",
    "        return ValDer(np.arctan(self.val), self.der / (1 + self.val ** 2))\n",
    "\n",
    "    def exp(self):\n",
    "        return ValDer(np.exp(self.val), np.exp(self.val) * self.der)\n",
    "\n",
    "    def log(self):\n",
    "        return ValDer(np.log(self.val), self.der / self.val)\n",
    "\n",
    "    def erf(self):\n",
    "        return ValDer(np.erf(self.val), (2 / np.sqrt(np.pi)) * np.exp(-self.val ** 2) * self.der)\n",
    "\n",
    "# Example usage:\n",
    "# x = ValDer(3, 1)\n",
    "# y = x * x + x.sin()\n",
    "# print(y)"
   ]
  },
  {
   "cell_type": "markdown",
   "metadata": {},
   "source": [
    "Test out that ValDer is working correctly. \n",
    "You can use the examples in 10 and or make your own examples."
   ]
  },
  {
   "cell_type": "code",
   "execution_count": null,
   "metadata": {},
   "outputs": [],
   "source": []
  },
  {
   "cell_type": "markdown",
   "metadata": {},
   "source": [
    "11. Write Newton's Method with automatic differentiation"
   ]
  },
  {
   "cell_type": "code",
   "execution_count": null,
   "metadata": {},
   "outputs": [],
   "source": [
    "def NewtonsMethodAD(f, x0):\n",
    "    \"\"\"\n",
    "    Solves f(x) = 0 using Newton's Method. This method calculates the derivative of f automatically using the ValDer library.\n",
    "    \n",
    "    Parameters:\n",
    "    f  : function using independent variable x - The function for which we are finding the root\n",
    "    x0 : initial guess\n",
    "    \n",
    "    Returns: x : float - root of the function f\n",
    "    \"\"\"\n",
    "    \n",
    "    tol = 1e-12  # An internal numerical parameter for the tolerance on f(x)\n",
    "    miniter = 3  # Minimum number of iterations\n",
    "\n",
    "    ### write your code between here\n",
    "\n",
    "\n",
    "\n",
    "\n",
    "    \n",
    "    ### and here\n",
    "    \n",
    "    # you want to use a command like the following to make formatted output\n",
    "    # of each iteration\n",
    "    #    print(f\"{iter:5d} {x:18.16f} {abs(f(x)):18.16f}\")\n",
    "    \n",
    "    return x"
   ]
  },
  {
   "cell_type": "markdown",
   "metadata": {},
   "source": [
    "12. Define the function\n",
    "$$ \\exp(-\\sqrt{x})\\sin(x\\log(1+x^2)) $$\n",
    "to test your new Newton's Method"
   ]
  },
  {
   "cell_type": "code",
   "execution_count": null,
   "metadata": {},
   "outputs": [],
   "source": [
    "\n",
    "f = lambda x: np.exp(-np.sqrt(x))*np.sin(x*np.log(1+x*x))\n",
    "\n",
    "\n",
    "plt.figure();\n",
    "plt.subplot(2,1,1);\n",
    "x = np.linspace(0,3,1024); \n",
    "plt.plot(x,f(x))\n",
    "plt.plot([0,3],[0,0],'--k')\n",
    "plt.xlabel('x')\n",
    "plt.ylabel('f(x)')\n",
    "\n",
    "plt.subplot(2,1,2);\n",
    "plt.ylabel(r'root $x_\\infty$')\n",
    "plt.xlabel(r'$x_0$')\n",
    "plt.ylim([0,3])\n",
    "for x0 in np.linspace(0,3,31):\n",
    "    x = ValDer(x0,1)\n",
    "    x = NewtonsMethodAD(f,x0);\n",
    "    plt.plot(x0,x,'o',color='orange')\n"
   ]
  }
 ],
 "metadata": {
  "kernelspec": {
   "display_name": "Python 3 (ipykernel)",
   "language": "python",
   "name": "python3"
  },
  "language_info": {
   "codemirror_mode": {
    "name": "ipython",
    "version": 3
   },
   "file_extension": ".py",
   "mimetype": "text/x-python",
   "name": "python",
   "nbconvert_exporter": "python",
   "pygments_lexer": "ipython3",
   "version": "3.12.8"
  }
 },
 "nbformat": 4,
 "nbformat_minor": 4
}
