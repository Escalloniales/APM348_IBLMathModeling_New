{
 "cells": [
  {
   "cell_type": "markdown",
   "id": "76004eae-6b0c-4677-bb13-e689d6f50f2e",
   "metadata": {},
   "source": [
    "# 1. Bee Problem"
   ]
  },
  {
   "cell_type": "code",
   "execution_count": 28,
   "id": "1893ee6e-364f-4a73-bd63-d410b4192dd9",
   "metadata": {},
   "outputs": [
    {
     "name": "stdout",
     "output_type": "stream",
     "text": [
      "Solution: x = 1.1461932206205825\n"
     ]
    }
   ],
   "source": [
    "import numpy as np\n",
    "from scipy.optimize import fsolve\n",
    "\n",
    "f = lambda x: (2+x)*np.exp(-x)-1;\n",
    "\n",
    "# Initial guesses for x\n",
    "x0 = 2\n",
    "\n",
    "# Solve the system of equations using fsolve (that use methods like Newton's Method)\n",
    "solution = fsolve(f, x0)\n",
    "\n",
    "# Print the solution\n",
    "print(\"Solution: x =\", solution[0])"
   ]
  },
  {
   "cell_type": "markdown",
   "id": "08a60b5a-7ddb-4c2f-88a0-1ca8697ad8dd",
   "metadata": {},
   "source": [
    "# 2. Atmosphere problem"
   ]
  },
  {
   "cell_type": "code",
   "execution_count": 33,
   "id": "a8a7dd2c-63b8-4986-b7cc-00aff4377b85",
   "metadata": {},
   "outputs": [
    {
     "name": "stdout",
     "output_type": "stream",
     "text": [
      "The mass of Earth's atmosphere is approximately 5.19E+19 kg\n",
      "The actual mass of Earth's atmosphere is 5.28E+18 kg\n",
      "\n",
      "Error = 9.827906873747231 times\n"
     ]
    }
   ],
   "source": [
    "import numpy as np\n",
    "import scipy.integrate as integrate\n",
    "\n",
    "R_E = 6.378*10**6;\n",
    "R_T = R_E + 20000;\n",
    "R_S = R_E + 50000;\n",
    "\n",
    "g = 9.80665\n",
    "M = 0.0289644 # molar mass of dry air\n",
    "R = 8.31447 # ideal gas constant\n",
    "L = 0.0065 # temperature lapse\n",
    "\n",
    "p0 = 101325 # air pressure at sea level (in Pa)\n",
    "T0 = 288.15 # temperature at sea level (in K)\n",
    "\n",
    "# TROPOSPHERE\n",
    "\n",
    "T = lambda y: T0 - L*(y); # Temperature\n",
    "\n",
    "p_T = lambda y: p0*(1- L*y/T0)**((g*M)/(R*L))\n",
    "    # air density where y is the altitude from sea level\n",
    "rho_T = lambda y: (M/(R*T(y)))* p_T(y);\n",
    "func_T = lambda y: rho_T(y-R_E) * y**2;\n",
    "\n",
    "\n",
    "# Calculate the mass of the Troposphere\n",
    "\n",
    "M_T_int = integrate.quad(func_T,R_E, R_T);  # The integral gives two values: the integral and the error estimate\n",
    "M_T = 4*np.pi *g* M_T_int[0]\n",
    "\n",
    "\n",
    "# STRATOSPHERE\n",
    "\n",
    "TS = T(R_T-R_E) # Temperature in the stratosphere\n",
    "rho_S0 = rho_T(R_T-R_E) # air density at the beginning of the stratosphere\n",
    "\n",
    "    # air density where y is the distance from the Troposphere-Stratosphere layer\n",
    "rho_S = lambda y: rho_S0 * np.exp(-(g*M/(R*TS))*(y));\n",
    "func_S = lambda y: rho_S(y-R_T) * y**2;\n",
    "\n",
    "\n",
    "M_S_int = integrate.quad(func_S,R_T, R_S);  # The integral gives two values: the integral and the error estimate\n",
    "M_S = 4*np.pi *g* M_S_int[0]\n",
    "\n",
    "\n",
    "# RESULT\n",
    "\n",
    "Matm = M_T + M_S\n",
    "ME=p0/g*4*np.pi*(R_E**2)\n",
    "    # sea-level pressure is 101325 Pa = N/m^2\n",
    "    # Divide by g to get Kg for all the atmosphere above a 1m^2 area on the earth\n",
    "    # Multiply by the surface area of the Earth\n",
    "\n",
    "\n",
    "print(f\"The mass of Earth's atmosphere is approximately {Matm:.2E} kg\")\n",
    "print(f\"The actual mass of Earth's atmosphere is {ME:.2E} kg\")\n",
    "print()\n",
    "print('Error =',Matm/ME,'times')"
   ]
  },
  {
   "cell_type": "code",
   "execution_count": 34,
   "id": "52f77807-739b-452a-82f6-23944e519226",
   "metadata": {},
   "outputs": [
    {
     "data": {
      "image/png": "[encoded data removed]",
      "text/plain": [
       "<Figure size 640x480 with 1 Axes>"
      ]
     },
     "metadata": {},
     "output_type": "display_data"
    }
   ],
   "source": [
    "import matplotlib.pyplot as plt\n",
    "\n",
    "npt_T = 100\n",
    "npt_S = int(npt_T*(R_S-R_T)/(R_T-R_E))\n",
    "\n",
    "yT = (np.linspace(R_E,R_T,npt_T)-R_E)/1000\n",
    "yS = (np.linspace(R_T,R_S,npt_S)-R_E)/1000\n",
    "\n",
    "plt.plot(yT, rho_T(yT*1000))\n",
    "plt.plot(yS, rho_S(yS*1000-(R_T-R_E)))\n",
    "plt.xlabel('altitude in km');\n",
    "plt.ylabel(r'air density in kg/m$^3$');\n",
    "plt.legend(['troposphere','stratosphere']);\n",
    "\n",
    "# plt.plot(yT, func_T(yT))\n",
    "\n",
    "# plt.plot(yS, func_S(yS))"
   ]
  },
  {
   "cell_type": "code",
   "execution_count": 35,
   "id": "df223bed-16b0-4f93-afac-d47e2a673eea",
   "metadata": {},
   "outputs": [
    {
     "name": "stdout",
     "output_type": "stream",
     "text": [
      "The mass of the atmosphere up to 11km makes up 78% of the whole mass.\n"
     ]
    }
   ],
   "source": [
    "alt34 = R_E+11000\n",
    "\n",
    "M34_int = integrate.quad(func_T,R_E, alt34);  # The integral gives two values: the integral and the error estimate\n",
    "M34 = 4*np.pi *g* M34_int[0]\n",
    "\n",
    "print(f'The mass of the atmosphere up to 11km makes up {100*M34/Matm:.0f}% of the whole mass.')"
   ]
  },
  {
   "cell_type": "code",
   "execution_count": null,
   "id": "df9d4c10-7c0f-4708-b048-19ff1584dc33",
   "metadata": {},
   "outputs": [],
   "source": []
  }
 ],
 "metadata": {
  "kernelspec": {
   "display_name": "Python 3 (ipykernel)",
   "language": "python",
   "name": "python3"
  },
  "language_info": {
   "codemirror_mode": {
    "name": "ipython",
    "version": 3
   },
   "file_extension": ".py",
   "mimetype": "text/x-python",
   "name": "python",
   "nbconvert_exporter": "python",
   "pygments_lexer": "ipython3",
   "version": "3.12.8"
  }
 },
 "nbformat": 4,
 "nbformat_minor": 5
}
